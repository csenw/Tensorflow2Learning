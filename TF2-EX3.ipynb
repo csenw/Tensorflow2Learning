{
 "cells": [
  {
   "cell_type": "markdown",
   "metadata": {},
   "source": [
    "# Practice of CIFAR10"
   ]
  },
  {
   "cell_type": "code",
   "execution_count": 2,
   "metadata": {},
   "outputs": [
    {
     "name": "stdout",
     "output_type": "stream",
     "text": [
      "2.2.0-dev20200315\n"
     ]
    }
   ],
   "source": [
    "import tensorflow as tf\n",
    "\n",
    "print(tf.__version__)"
   ]
  },
  {
   "cell_type": "code",
   "execution_count": 20,
   "metadata": {},
   "outputs": [
    {
     "ename": "ModuleNotFoundError",
     "evalue": "No module named 'nvidia_smi'",
     "output_type": "error",
     "traceback": [
      "\u001b[0;31m---------------------------------------------------------------------------\u001b[0m",
      "\u001b[0;31mModuleNotFoundError\u001b[0m                       Traceback (most recent call last)",
      "\u001b[0;32m<ipython-input-20-2533ad3fd129>\u001b[0m in \u001b[0;36m<module>\u001b[0;34m\u001b[0m\n\u001b[1;32m      1\u001b[0m \u001b[0;32mimport\u001b[0m \u001b[0mtensorflow\u001b[0m \u001b[0;32mas\u001b[0m \u001b[0mtf\u001b[0m\u001b[0;34m\u001b[0m\u001b[0;34m\u001b[0m\u001b[0m\n\u001b[1;32m      2\u001b[0m \u001b[0;32mfrom\u001b[0m \u001b[0mtensorflow\u001b[0m\u001b[0;34m.\u001b[0m\u001b[0mkeras\u001b[0m \u001b[0;32mimport\u001b[0m \u001b[0mdatasets\u001b[0m\u001b[0;34m,\u001b[0m \u001b[0mlayers\u001b[0m\u001b[0;34m,\u001b[0m \u001b[0moptimizers\u001b[0m\u001b[0;34m,\u001b[0m \u001b[0mSequential\u001b[0m\u001b[0;34m\u001b[0m\u001b[0;34m\u001b[0m\u001b[0m\n\u001b[0;32m----> 3\u001b[0;31m \u001b[0;32mimport\u001b[0m \u001b[0mos\u001b[0m\u001b[0;34m,\u001b[0m \u001b[0mnvidia_smi\u001b[0m\u001b[0;34m\u001b[0m\u001b[0;34m\u001b[0m\u001b[0m\n\u001b[0m\u001b[1;32m      4\u001b[0m \u001b[0;34m\u001b[0m\u001b[0m\n\u001b[1;32m      5\u001b[0m \u001b[0mhandle\u001b[0m \u001b[0;34m=\u001b[0m \u001b[0mnvidia_smi\u001b[0m\u001b[0;34m.\u001b[0m\u001b[0mnvmlDeviceGetHandleByIndex\u001b[0m\u001b[0;34m(\u001b[0m\u001b[0;36m0\u001b[0m\u001b[0;34m)\u001b[0m\u001b[0;34m\u001b[0m\u001b[0;34m\u001b[0m\u001b[0m\n",
      "\u001b[0;31mModuleNotFoundError\u001b[0m: No module named 'nvidia_smi'"
     ]
    }
   ],
   "source": [
    "import tensorflow as tf\n",
    "from tensorflow.keras import datasets, layers, optimizers, Sequential\n",
    "import os, nvidia_smi\n",
    "\n",
    "handle = nvidia_smi.nvmlDeviceGetHandleByIndex(0)\n",
    "# card id 0 hardcoded here, there is also a call to get all available card ids, so we could iterate\n",
    "\n",
    "\n",
    "\n",
    "nvidia_smi.nvmlInit()\n",
    "(x,y), (x_test, y_test) = datasets.cifar10.load_data()\n",
    "print(x.shape, y.shape, x_test.shape, y_test.shape)\n",
    "\n",
    "# remove the last division of y and y_test\n",
    "y = tf.squeeze(y, axis=-1)\n",
    "y_test = tf.squeeze(y_test, axis=-1)\n",
    "print(x.shape, y.shape, x_test.shape, y_test.shape)\n",
    "\n",
    "def preprocess(x,y):\n",
    "    x = 2*tf.cast(x,dtype=tf.float32)/255.-1\n",
    "    y = tf.cast(y,dtype=tf.int32)\n",
    "    return x,y\n",
    "    \n",
    "# need to construct Training object with the imported tensors\n",
    "train_db = tf.data.Dataset.from_tensor_slices((x,y))\n",
    "# shuffle and preporcess and setup batch\n",
    "train_db = train_db.shuffle(1000).map(preprocess).batch(128)\n",
    "\n",
    "test_db = tf.data.Dataset.from_tensor_slices((x_test, y_test))\n",
    "test_db = test_db.map(preprocess).batch(128)\n",
    "\n",
    "alexnet_layers = [\n",
    "    # Layer 1\n",
    "    layers.Conv2D(filters = 96, kernel_size = [11,11], strides = 4, padding = [[0,0],[2,2],[2,2],[0,0]], activation=tf.nn.relu),\n",
    "    layers.MaxPool2D(pool_size=[3,3], strides=2, padding = 'valid'),\n",
    "    # Layer 2\n",
    "    layers.Conv2D(filters = 256, kernel_size = [5,5], strides = 1, padding = [[0,0],[2,2],[2,2],[0,0]], activation=tf.nn.relu),\n",
    "    layers.MaxPool2D(pool_size = [3,3], strides = 2, padding = 'valid'),\n",
    "    # Layer 3\n",
    "    layers.Conv2D(filters = 384, kernel_size = [3,3], strides = 1, padding = [[0,0],[1,1],[1,1],[0,0]], activation=tf.nn.relu),\n",
    "    # Layer 4\n",
    "    layers.Conv2D(filters = 384, kernel_size = [3,3], strides = 1, padding = [[0,0],[1,1],[1,1],[0,0]], activation=tf.nn.relu),\n",
    "    # Layer 5\n",
    "    layers.Conv2D(filters = 256, kernel_size = [3,3], strides = 1, padding = [[0,0],[1,1],[1,1],[0,0]], activation=tf.nn.relu),\n",
    "    layers.MaxPool2D(pool_size = [3,3], strides=1, padding = 'same'),\n",
    "    \n",
    "    # Before going to FC layers, a batch normal layer is needed.\n",
    "    layers.BatchNormalization(),\n",
    "    layers.Flatten(),\n",
    "    \n",
    "    # FC layers\n",
    "    # Layer 6\n",
    "    layers.Dense(8192, activation = tf.nn.relu),\n",
    "    layers.Dropout(rate = 0.2),\n",
    "    # Layer 7\n",
    "    layers.Dense(8192, activation = tf.nn.relu),\n",
    "    layers.Dropout(rate = 0.2),\n",
    "    # Layer 8\n",
    "    layers.Dense(10, activation=None)\n",
    "]\n",
    "\n",
    "\n",
    "def main():\n",
    "    \n",
    "    alexnet = Sequential(alexnet_layers)\n",
    "    alexnet.build(input_shape = [None, 32, 32, 3])\n",
    "    alexnet.summary()\n",
    "    #vgg_layers = []\n",
    "    \n",
    "    optimizer = optimizers.Adam(lr = 1e-4)\n",
    "    \n",
    "    for epoch in range(5):\n",
    "        for step, (x, y) in enumerate(train_db):\n",
    "            with tf.GradientTape() as tape:\n",
    "                out = alexnet(x)\n",
    "                y_onehot = tf.one_hot(y, depth = 10)\n",
    "\n",
    "                loss = tf.losses.categorical_crossentropy(y_onehot, out, from_logits = True)\n",
    "                loss = tf.reduce_mean(loss)\n",
    "\n",
    "            grads = tape.gradient(loss, alexnet.trainable_variables)\n",
    "            optimizer.apply_gradients(zip(grads, alexnet.trainable_variables))\n",
    "\n",
    "            if step % 100 == 0:\n",
    "                print(epoch, step, 'loss:', float(loss))\n",
    "\n",
    "        total_num = 0\n",
    "        total_correct = 0\n",
    "        for x,y in test_db:\n",
    "            out = alexnet(x)\n",
    "            prob = tf.nn.softmax(out, axis = 1)\n",
    "            pred = tf.argmax(prob, axis = 1)\n",
    "            pred = tf.cast(pred, dtype = tf.int32)\n",
    "\n",
    "            correct = tf.cast(tf.equal(pred, y), dtype=tf.int32)\n",
    "            correct = tf.reduce_sum(correct)\n",
    "\n",
    "            total_num += x.shape[0]\n",
    "            total_correct += int(correct)\n",
    "\n",
    "        acc = total_correct / total_num\n",
    "        print(epoch, 'acc:', acc)\n",
    "        info = nvidia_smi.nvmlDeviceGetMemoryInfo(handle)\n",
    "        print(\"Total memory:\", info.total)\n",
    "        print(\"Free memory:\", info.free)\n",
    "        print(\"Used memory:\", info.used)\n",
    "    print(\"Iteration finished!!\")\n",
    " \n",
    "if __name__ == '__main__':\n",
    "    main()"
   ]
  },
  {
   "cell_type": "code",
   "execution_count": null,
   "metadata": {},
   "outputs": [],
   "source": []
  }
 ],
 "metadata": {
  "kernelspec": {
   "display_name": "Python 3",
   "language": "python",
   "name": "python3"
  },
  "language_info": {
   "codemirror_mode": {
    "name": "ipython",
    "version": 3
   },
   "file_extension": ".py",
   "mimetype": "text/x-python",
   "name": "python",
   "nbconvert_exporter": "python",
   "pygments_lexer": "ipython3",
   "version": "3.6.9"
  }
 },
 "nbformat": 4,
 "nbformat_minor": 2
}
